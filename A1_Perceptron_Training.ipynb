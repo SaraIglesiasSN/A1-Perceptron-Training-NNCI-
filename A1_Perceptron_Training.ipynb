{
 "cells": [
  {
   "cell_type": "markdown",
   "metadata": {},
   "source": [
    "## Assignment 1: Perceptron Training\n",
    "Neural Networks and Computational Intelligence"
   ]
  },
  {
   "cell_type": "code",
   "execution_count": 2,
   "metadata": {},
   "outputs": [],
   "source": [
    "import numpy as np\n",
    "import matplotlib.pyplot as plt"
   ]
  },
  {
   "cell_type": "code",
   "execution_count": 3,
   "metadata": {},
   "outputs": [
    {
     "name": "stdout",
     "output_type": "stream",
     "text": [
      "[[-0.91465091  0.25183373 -1.68764484  1.4045845   0.90709848]\n",
      " [-1.23860811  0.72388176 -1.93186741 -0.18059661 -0.17642868]\n",
      " [ 1.10012845  0.34781732  1.41007298  0.33891573 -1.42255552]\n",
      " [-1.          1.          1.          1.         -1.        ]]\n"
     ]
    }
   ],
   "source": [
    "## a) Generate artificial data sets\n",
    "P = 5      # number of feature vectors \n",
    "N = 3      # dim of feature vectors\n",
    "def datasets(N,P):\n",
    "    D = np.zeros((N+1, P))       # empty data set (each column is a vector, last el. is the label)\n",
    "    for mu in range(P):\n",
    "        D[:-1, mu] = np.random.normal(0, 1, size = N)\n",
    "        D[-1, mu] = np.random.randint(2, size = 1)        # the labels are 0 and 1 not -+1\n",
    "        if D[-1, mu] == 0:\n",
    "            D[-1, mu] = -1\n",
    "    return D\n",
    "D = datasets(N,P)\n",
    "print(D)"
   ]
  },
  {
   "cell_type": "code",
   "execution_count": 52,
   "metadata": {},
   "outputs": [
    {
     "name": "stdout",
     "output_type": "stream",
     "text": [
      "epoch 1\n",
      "mu(0) =  0 : [ 0.03376868  0.58209255 -1.22349064]\n",
      "mu(1) =  1 : [-1.70039199  0.11615836 -0.6139492 ]\n",
      "mu(2) =  2 : [0.38218257 0.89966754 0.26087754]\n",
      "mu(3) =  3 : [ 0.00986477 -1.68624585 -1.05538646]\n",
      "mu(4) =  4 : [-0.09760361 -0.57090068  1.41009158]\n",
      "epoch 2\n",
      "mu(5) =  0 : [ 0.03376868  0.58209255 -1.22349064]\n",
      "mu(6) =  1 : [-1.70039199  0.11615836 -0.6139492 ]\n",
      "mu(7) =  2 : [0.38218257 0.89966754 0.26087754]\n",
      "mu(8) =  3 : [ 0.00986477 -1.68624585 -1.05538646]\n",
      "mu(9) =  4 : [-0.09760361 -0.57090068  1.41009158]\n"
     ]
    }
   ],
   "source": [
    "## b) Sequential perceptron training\n",
    "\n",
    "n_max = 2     # max number of epochs (loops through D)\n",
    "n = 1           # epoch counter\n",
    "t = 0\n",
    "while n <= n_max:\n",
    "    print('epoch', n)\n",
    "    for mu in range(P):\n",
    "        print('mu('+str(t)+') = ', mu, ':', D[:-1, mu])\n",
    "        t += 1 \n",
    "    n += 1\n"
   ]
  },
  {
   "cell_type": "code",
   "execution_count": 51,
   "metadata": {},
   "outputs": [],
   "source": [
    "## c) Rosenblatt algorithm\n",
    "def Ros_alg(N, P, D, n_max):\n",
    "    w = np.zeros(N)      # weight vector\n",
    "    E_mu = np.zeros(P)    # local potentials (one per input vector)\n",
    "    n = 1\n",
    "    #t = 0\n",
    "    success = False\n",
    "    while n <= n_max:\n",
    "        #print('epoch', n)\n",
    "        for mu in range(P):\n",
    "            if E_mu[mu] <= 0:\n",
    "                w += (D[:-1, mu]) * D[-1, mu] / N\n",
    "            E_mu[mu] = np.dot(w, D[:-1, mu]) * D[-1, mu]\n",
    "            #print(E_mu)\n",
    "        #t += 1\n",
    "        if not np.any(E_mu <= 0):\n",
    "            success = True\n",
    "            break\n",
    "        n += 1\n",
    "    return w, success\n",
    "\n",
    "P = 5\n",
    "N = 3\n",
    "D = datasets(N,P)\n",
    "w, s = Ros_alg(N, P, D, 10)\n"
   ]
  },
  {
   "cell_type": "code",
   "execution_count": 65,
   "metadata": {},
   "outputs": [
    {
     "name": "stdout",
     "output_type": "stream",
     "text": [
      "[1.   1.   0.98 0.83 0.39 0.25 0.08 0.03 0.   0.  ]\n"
     ]
    },
    {
     "data": {
      "image/png": "[encoded data removed]",
      "text/plain": [
       "<Figure size 640x480 with 1 Axes>"
      ]
     },
     "metadata": {},
     "output_type": "display_data"
    }
   ],
   "source": [
    "## d) Running the experiments\n",
    "\n",
    "alpha = [0.25*i for i in range(3, 13)] #len 10\n",
    "N = [20, 40]\n",
    "n_D = 50    # number of random datasets for each P\n",
    "n_max = 100     # max number of epochs \n",
    "succ_alpha = np.zeros(len(alpha))\n",
    "for a in range(len(alpha)):\n",
    "    successful_runs = 0\n",
    "    for n_dim in N: \n",
    "        P = int(n_dim*alpha[a])\n",
    "        for d in range(n_D):\n",
    "            D = datasets(n_dim, P)\n",
    "            ww, ss= Ros_alg(n_dim, P, D, n_max)    #I think I dont need w for anything\n",
    "            successful_runs += ss\n",
    "    succ_alpha[a] += successful_runs / n_D\n",
    "succ_alpha = succ_alpha/(len(N))      \n",
    "print(succ_alpha)\n",
    "\n",
    "plt.plot(alpha, succ_alpha)\n",
    "plt.xlabel('alpha = P/N')\n",
    "plt.ylabel('Fraction of succesful runs')\n",
    "plt.plot(2, 0.5, 'ro')\n",
    "plt.show()\n"
   ]
  }
 ],
 "metadata": {
  "kernelspec": {
   "display_name": "Python 3.10.7 64-bit",
   "language": "python",
   "name": "python3"
  },
  "language_info": {
   "codemirror_mode": {
    "name": "ipython",
    "version": 3
   },
   "file_extension": ".py",
   "mimetype": "text/x-python",
   "name": "python",
   "nbconvert_exporter": "python",
   "pygments_lexer": "ipython3",
   "version": "3.10.7"
  },
  "orig_nbformat": 4,
  "vscode": {
   "interpreter": {
    "hash": "c63d8c7d738c2960218a10995aedf0a7f67a49a231e71037adf0440953cdb45b"
   }
  }
 },
 "nbformat": 4,
 "nbformat_minor": 2
}
