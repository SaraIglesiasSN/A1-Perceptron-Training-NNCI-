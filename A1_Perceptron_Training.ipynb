{
 "cells": [
  {
   "cell_type": "markdown",
   "metadata": {},
   "source": [
    "## Assignment 1: Perceptron Training\n",
    "Neural Networks and Computational Intelligence"
   ]
  },
  {
   "cell_type": "code",
   "execution_count": 6,
   "metadata": {},
   "outputs": [],
   "source": [
    "import numpy as np\n",
    "import matplotlib.pyplot as plt\n",
    "np.random.seed(29) # makes the random numbers predictable"
   ]
  },
  {
   "cell_type": "code",
   "execution_count": 7,
   "metadata": {},
   "outputs": [
    {
     "name": "stdout",
     "output_type": "stream",
     "text": [
      "[[-0.41748213 -2.1417555  -0.89422358  0.10193307  0.98494561]\n",
      " [ 0.7060321   0.23407402  0.80802964 -1.19332572 -1.1444064 ]\n",
      " [ 1.9159847   0.25027325 -0.20433129  0.00373976  0.38683645]\n",
      " [ 1.          1.          1.          1.         -1.        ]]\n"
     ]
    }
   ],
   "source": [
    "## a) Generate artificial data sets\n",
    "P = 5      # number of feature vectors \n",
    "N = 3      # dim of feature vectors\n",
    "\n",
    "def datasets(N, P):\n",
    "    D = np.zeros((N+1, P))       # empty data set (each column is a vector, last el. is the label)\n",
    "    for mu in range(P):\n",
    "        D[:-1, mu] = np.random.normal(0, 1, size=N)\n",
    "        D[-1, mu] = np.random.randint(0, 2, size=1)        # the labels are 0 and 1 not -+1\n",
    "        if D[-1, mu] == 0:\n",
    "            D[-1, mu] = -1\n",
    "    return D\n",
    "\n",
    "D = datasets(N, P)\n",
    "print(D)"
   ]
  },
  {
   "cell_type": "code",
   "execution_count": 8,
   "metadata": {},
   "outputs": [
    {
     "name": "stdout",
     "output_type": "stream",
     "text": [
      "epoch 1\n",
      "mu(0) =  0 : [-0.41748213  0.7060321   1.9159847 ]\n",
      "mu(1) =  1 : [-2.1417555   0.23407402  0.25027325]\n",
      "mu(2) =  2 : [-0.89422358  0.80802964 -0.20433129]\n",
      "mu(3) =  3 : [ 0.10193307 -1.19332572  0.00373976]\n",
      "mu(4) =  4 : [ 0.98494561 -1.1444064   0.38683645]\n",
      "epoch 2\n",
      "mu(5) =  0 : [-0.41748213  0.7060321   1.9159847 ]\n",
      "mu(6) =  1 : [-2.1417555   0.23407402  0.25027325]\n",
      "mu(7) =  2 : [-0.89422358  0.80802964 -0.20433129]\n",
      "mu(8) =  3 : [ 0.10193307 -1.19332572  0.00373976]\n",
      "mu(9) =  4 : [ 0.98494561 -1.1444064   0.38683645]\n",
      "Final t:  10\n"
     ]
    }
   ],
   "source": [
    "## b) Sequential perceptron training\n",
    "\n",
    "n_max = 2     # max number of epochs (loops through D)\n",
    "n = 1           # epoch counter\n",
    "t = 0\n",
    "while n <= n_max:\n",
    "    print('epoch', n)\n",
    "    for mu in range(P):\n",
    "        print('mu('+str(t)+') = ', mu, ':', D[:-1, mu])\n",
    "        t += 1 \n",
    "    n += 1\n",
    "print(\"Final t: \", t)"
   ]
  },
  {
   "cell_type": "code",
   "execution_count": 9,
   "metadata": {},
   "outputs": [
    {
     "name": "stdout",
     "output_type": "stream",
     "text": [
      "Success: True after 4 out of 10 max epochs\n"
     ]
    }
   ],
   "source": [
    "## c) Rosenblatt algorithm\n",
    "def Ros_alg(N, P, D, n_max, c_threshold=0, verbose=False):\n",
    "    w = np.zeros(N)      # weight vector\n",
    "    x = np.zeros(P) # embedding strengths\n",
    "    E_mu = np.zeros(P)    # local potentials (one per input vector)\n",
    "    n = 1\n",
    "    #t = 0\n",
    "    success = False\n",
    "    while n <= n_max:\n",
    "        #print('epoch', n)\n",
    "        for mu in range(P):\n",
    "            \n",
    "            E_mu[mu] = np.dot(w, D[:-1, mu]) * D[-1, mu]\n",
    "            \n",
    "            heav = np.heaviside(c_threshold - E_mu[mu], 1) \n",
    "            \n",
    "            if heav:\n",
    "                w += 1/N * heav * D[:-1, mu] * D[-1, mu] \n",
    "                x[mu] += heav\n",
    "\n",
    "        #t += 1\n",
    "        if not np.any(E_mu <= 0):\n",
    "            success = True\n",
    "            break\n",
    "        n += 1\n",
    "        \n",
    "    if verbose:\n",
    "        print(\"Success: {} after {} out of {} max epochs\".format(success, n, n_max))\n",
    "        \n",
    "    return w, x, n, success\n",
    "\n",
    "n_max = 10\n",
    "w, x, n, s = Ros_alg(N, P, D, n_max, verbose=True)"
   ]
  },
  {
   "cell_type": "code",
   "execution_count": 10,
   "metadata": {},
   "outputs": [
    {
     "name": "stdout",
     "output_type": "stream",
     "text": [
      "P_ls of N = 3, P = 5 -> 0.688\n"
     ]
    }
   ],
   "source": [
    "## Rosenblatt validation algorithm\n",
    "def Ros_alg_theoretical(N, P, verbose=False):\n",
    "    if P <= N:\n",
    "        P_ls = 1\n",
    "    else:\n",
    "        P_ls = 0\n",
    "        for ii in range(0, N):\n",
    "            P_ls += np.math.factorial(P - 1) / (np.math.factorial(ii) * np.math.factorial(P - 1 - ii))\n",
    "        P_ls *= 2**(1 - P)\n",
    "        \n",
    "    if verbose:\n",
    "        print(\"P_ls of N = {}, P = {} -> {:.3f}\".format(N, P, P_ls))\n",
    "    \n",
    "    return P_ls\n",
    "\n",
    "a = Ros_alg_theoretical(N, P, verbose=True)"
   ]
  },
  {
   "cell_type": "code",
   "execution_count": 11,
   "metadata": {},
   "outputs": [
    {
     "name": "stdout",
     "output_type": "stream",
     "text": [
      "It of alpha: 1 out of 23\n",
      "It of alpha: 2 out of 23\n",
      "It of alpha: 3 out of 23\n",
      "It of alpha: 4 out of 23\n",
      "It of alpha: 5 out of 23\n",
      "It of alpha: 6 out of 23\n",
      "It of alpha: 7 out of 23\n",
      "It of alpha: 8 out of 23\n",
      "It of alpha: 9 out of 23\n",
      "It of alpha: 10 out of 23\n",
      "It of alpha: 11 out of 23\n",
      "It of alpha: 12 out of 23\n",
      "It of alpha: 13 out of 23\n",
      "It of alpha: 14 out of 23\n",
      "It of alpha: 15 out of 23\n",
      "It of alpha: 16 out of 23\n",
      "It of alpha: 17 out of 23\n",
      "It of alpha: 18 out of 23\n",
      "It of alpha: 19 out of 23\n",
      "It of alpha: 20 out of 23\n",
      "It of alpha: 21 out of 23\n",
      "It of alpha: 22 out of 23\n",
      "It of alpha: 23 out of 23\n"
     ]
    }
   ],
   "source": [
    "## d) Running the experiments\n",
    "\n",
    "min_alpha = 0.75; max_alpha = 3; step_alpha = 0.1\n",
    "alpha = np.linspace(min_alpha, max_alpha, int(np.ceil((max_alpha - min_alpha) / step_alpha)))\n",
    "N_sizes = [5, 20, 40]\n",
    "\n",
    "n_D = 100 * 2   # number of random datasets for each P\n",
    "n_max = 100 * 5     # max number of epochs \n",
    "\n",
    "def do_experiment(alpha, N, n_D, n_max, c_threshold=0.0):\n",
    "    P_ls = np.zeros((len(alpha), len(N)))\n",
    "    P_ls_theoretical = np.zeros((len(alpha), len(N)))\n",
    "\n",
    "    for aa in range(len(alpha)):\n",
    "        print(\"It of alpha: {} out of {}\".format(aa + 1, len(alpha)))\n",
    "        for n_dim in N: \n",
    "            successful_runs = 0\n",
    "            \n",
    "            P = int(n_dim * alpha[aa])\n",
    "            for dd in range(n_D):\n",
    "                D = datasets(n_dim, P) # new generated dataset\n",
    "                ww, xx, nn, ss = Ros_alg(n_dim, P, D, n_max, c_threshold=c_threshold)    #I think I dont need w for anything\n",
    "                successful_runs += ss\n",
    "                \n",
    "            P_ls[aa, N.index(n_dim)] = successful_runs / n_D\n",
    "            P_ls_theoretical[aa, N.index(n_dim)] = Ros_alg_theoretical(n_dim, P)\n",
    "            \n",
    "    return P_ls, P_ls_theoretical\n",
    "\n",
    "P_ls, P_ls_theoretical = do_experiment(alpha, N_sizes, n_D, n_max, c_threshold=0.0)\n"
   ]
  },
  {
   "cell_type": "code",
   "execution_count": 12,
   "metadata": {},
   "outputs": [
    {
     "data": {
      "image/png": "[encoded data removed]",
      "text/plain": [
       "<Figure size 640x480 with 1 Axes>"
      ]
     },
     "metadata": {},
     "output_type": "display_data"
    }
   ],
   "source": [
    "## Save and plot the results\n",
    "\n",
    "def plot_save_results(N_sizes, P_ls, P_ls_theoretical, name):\n",
    "    out_folder = \"Results/\"\n",
    "    with open(out_folder + \"Pls_{}.npy\".format(name), 'wb') as f:\n",
    "        np.save(f, P_ls)\n",
    "        np.save(f, P_ls_theoretical)\n",
    "\n",
    "    plt.figure()\n",
    "    colors = [\"b\", \"r\", \"c\", \"g\", \"y\", \"m\", \"k\"]\n",
    "    for ii in range(len(N_sizes)):\n",
    "        plt.plot(alpha, P_ls[:, ii], colors[ii]+\"-\", label=\"N = {}\".format(N_sizes[ii]))\n",
    "        plt.plot(alpha, P_ls_theoretical[:, ii], colors[ii]+\"--\")\n",
    "\n",
    "    plt.xlabel('alpha = P/N')\n",
    "    plt.ylabel('P_ls (Fraction of succesful runs)')\n",
    "    plt.grid()\n",
    "    plt.legend()\n",
    "    plt.show()\n",
    "\n",
    "plot_save_results(N_sizes, P_ls, P_ls_theoretical, \"1\")"
   ]
  },
  {
   "cell_type": "code",
   "execution_count": 13,
   "metadata": {},
   "outputs": [
    {
     "name": "stdout",
     "output_type": "stream",
     "text": [
      "It of alpha: 1 out of 10\n",
      "It of alpha: 2 out of 10\n",
      "It of alpha: 3 out of 10\n",
      "It of alpha: 4 out of 10\n",
      "It of alpha: 5 out of 10\n",
      "It of alpha: 6 out of 10\n",
      "It of alpha: 7 out of 10\n",
      "It of alpha: 8 out of 10\n",
      "It of alpha: 9 out of 10\n"
     ]
    },
    {
     "ename": "KeyboardInterrupt",
     "evalue": "",
     "output_type": "error",
     "traceback": [
      "\u001b[1;31m---------------------------------------------------------------------------\u001b[0m",
      "\u001b[1;31mKeyboardInterrupt\u001b[0m                         Traceback (most recent call last)",
      "Cell \u001b[1;32mIn [13], line 11\u001b[0m\n\u001b[0;32m      8\u001b[0m n_D \u001b[39m=\u001b[39m \u001b[39m100\u001b[39m   \u001b[39m# number of random datasets for each P\u001b[39;00m\n\u001b[0;32m      9\u001b[0m n_max \u001b[39m=\u001b[39m \u001b[39m100\u001b[39m     \u001b[39m# max number of epochs \u001b[39;00m\n\u001b[1;32m---> 11\u001b[0m P_ls, P_ls_theoretical \u001b[39m=\u001b[39m do_experiment(alpha, N_sizes, n_D, n_max)\n\u001b[0;32m     12\u001b[0m plot_save_results(N_sizes, P_ls, P_ls_theoretical, \u001b[39m\"\u001b[39m\u001b[39mbonus1\u001b[39m\u001b[39m\"\u001b[39m)\n",
      "Cell \u001b[1;32mIn [11], line 22\u001b[0m, in \u001b[0;36mdo_experiment\u001b[1;34m(alpha, N, n_D, n_max, c_threshold)\u001b[0m\n\u001b[0;32m     20\u001b[0m \u001b[39mfor\u001b[39;00m dd \u001b[39min\u001b[39;00m \u001b[39mrange\u001b[39m(n_D):\n\u001b[0;32m     21\u001b[0m     D \u001b[39m=\u001b[39m datasets(n_dim, P) \u001b[39m# new generated dataset\u001b[39;00m\n\u001b[1;32m---> 22\u001b[0m     ww, xx, nn, ss \u001b[39m=\u001b[39m Ros_alg(n_dim, P, D, n_max, c_threshold\u001b[39m=\u001b[39;49mc_threshold)    \u001b[39m#I think I dont need w for anything\u001b[39;00m\n\u001b[0;32m     23\u001b[0m     successful_runs \u001b[39m+\u001b[39m\u001b[39m=\u001b[39m ss\n\u001b[0;32m     25\u001b[0m P_ls[aa, N\u001b[39m.\u001b[39mindex(n_dim)] \u001b[39m=\u001b[39m successful_runs \u001b[39m/\u001b[39m n_D\n",
      "Cell \u001b[1;32mIn [9], line 13\u001b[0m, in \u001b[0;36mRos_alg\u001b[1;34m(N, P, D, n_max, c_threshold, verbose)\u001b[0m\n\u001b[0;32m      9\u001b[0m \u001b[39mwhile\u001b[39;00m n \u001b[39m<\u001b[39m\u001b[39m=\u001b[39m n_max:\n\u001b[0;32m     10\u001b[0m     \u001b[39m#print('epoch', n)\u001b[39;00m\n\u001b[0;32m     11\u001b[0m     \u001b[39mfor\u001b[39;00m mu \u001b[39min\u001b[39;00m \u001b[39mrange\u001b[39m(P):\n\u001b[1;32m---> 13\u001b[0m         E_mu[mu] \u001b[39m=\u001b[39m np\u001b[39m.\u001b[39;49mdot(w, D[:\u001b[39m-\u001b[39;49m\u001b[39m1\u001b[39;49m, mu]) \u001b[39m*\u001b[39m D[\u001b[39m-\u001b[39m\u001b[39m1\u001b[39m, mu]\n\u001b[0;32m     15\u001b[0m         heav \u001b[39m=\u001b[39m np\u001b[39m.\u001b[39mheaviside(c_threshold \u001b[39m-\u001b[39m E_mu[mu], \u001b[39m1\u001b[39m) \n\u001b[0;32m     17\u001b[0m         \u001b[39mif\u001b[39;00m heav:\n",
      "File \u001b[1;32m<__array_function__ internals>:180\u001b[0m, in \u001b[0;36mdot\u001b[1;34m(*args, **kwargs)\u001b[0m\n",
      "\u001b[1;31mKeyboardInterrupt\u001b[0m: "
     ]
    }
   ],
   "source": [
    "## Bonus: Observe the behavior of Q_ls for different system sizes N\n",
    "\n",
    "min_alpha = 1.5; max_alpha = 2.5; step_alpha = 0.1\n",
    "alpha = np.linspace(min_alpha, max_alpha, int(np.ceil((max_alpha - min_alpha) / step_alpha)))\n",
    "\n",
    "N_sizes = [5, 20, 40, 60, 80, 100]\n",
    "\n",
    "n_D = 100   # number of random datasets for each P\n",
    "n_max = 100     # max number of epochs \n",
    "\n",
    "P_ls, P_ls_theoretical = do_experiment(alpha, N_sizes, n_D, n_max)\n",
    "plot_save_results(N_sizes, P_ls, P_ls_theoretical, \"bonus1\")"
   ]
  },
  {
   "cell_type": "code",
   "execution_count": 41,
   "metadata": {},
   "outputs": [],
   "source": [
    "## Bonus Embedding Strengths\n",
    "P = 60\n",
    "N = 30\n",
    "\n",
    "n_D = 1  # you only do one experiment cause I doesnt make sense to sum xx from several\n",
    "n_max = 100      # max number of epochs \n",
    "\n",
    "def do_experiment_emb(P, N, n_D, n_max, c_threshold=0.0):\n",
    "    D = datasets(N, P) # new generated dataset\n",
    "    ww, xx, nn, ss = Ros_alg(N, P, D, n_max, c_threshold=c_threshold)    #I think I dont need w for anything\n",
    "    return xx\n",
    "\n",
    "embedding_strengths= do_experiment_emb(P, N, n_D, n_max, c_threshold=0.0)\n",
    "\n"
   ]
  },
  {
   "cell_type": "code",
   "execution_count": 42,
   "metadata": {},
   "outputs": [
    {
     "data": {
      "image/png": "[encoded data removed]",
      "text/plain": [
       "<Figure size 640x480 with 1 Axes>"
      ]
     },
     "metadata": {},
     "output_type": "display_data"
    }
   ],
   "source": [
    "bins = np.arange(0, P, 1) \n",
    "plt.bar(bins, embedding_strengths)\n",
    "plt.title(\"Embedding strength: N = {}, P = {}.\".format(N,P))\n",
    "plt.ylabel('Number of times updated (avg)')\n",
    "plt.xlabel('mu')\n",
    "plt.show()\n",
    "\n",
    "# we need to comment that so many are not used"
   ]
  },
  {
   "cell_type": "code",
   "execution_count": null,
   "metadata": {},
   "outputs": [
    {
     "name": "stdout",
     "output_type": "stream",
     "text": [
      "It of alpha: 1 out of 23\n",
      "It of alpha: 2 out of 23\n",
      "It of alpha: 3 out of 23\n",
      "It of alpha: 4 out of 23\n",
      "It of alpha: 5 out of 23\n",
      "It of alpha: 6 out of 23\n",
      "It of alpha: 7 out of 23\n",
      "It of alpha: 8 out of 23\n",
      "It of alpha: 9 out of 23\n",
      "It of alpha: 10 out of 23\n",
      "It of alpha: 11 out of 23\n",
      "It of alpha: 12 out of 23\n",
      "It of alpha: 13 out of 23\n",
      "It of alpha: 14 out of 23\n",
      "It of alpha: 15 out of 23\n",
      "It of alpha: 16 out of 23\n",
      "It of alpha: 17 out of 23\n",
      "It of alpha: 18 out of 23\n",
      "It of alpha: 19 out of 23\n",
      "It of alpha: 20 out of 23\n",
      "It of alpha: 21 out of 23\n",
      "It of alpha: 22 out of 23\n",
      "It of alpha: 23 out of 23\n",
      "It of alpha: 1 out of 23\n",
      "It of alpha: 2 out of 23\n",
      "It of alpha: 3 out of 23\n",
      "It of alpha: 4 out of 23\n",
      "It of alpha: 5 out of 23\n",
      "It of alpha: 6 out of 23\n",
      "It of alpha: 7 out of 23\n",
      "It of alpha: 8 out of 23\n",
      "It of alpha: 9 out of 23\n",
      "It of alpha: 10 out of 23\n",
      "It of alpha: 11 out of 23\n",
      "It of alpha: 12 out of 23\n",
      "It of alpha: 13 out of 23\n",
      "It of alpha: 14 out of 23\n",
      "It of alpha: 15 out of 23\n",
      "It of alpha: 16 out of 23\n",
      "It of alpha: 17 out of 23\n",
      "It of alpha: 18 out of 23\n",
      "It of alpha: 19 out of 23\n",
      "It of alpha: 20 out of 23\n",
      "It of alpha: 21 out of 23\n",
      "It of alpha: 22 out of 23\n",
      "It of alpha: 23 out of 23\n",
      "It of alpha: 1 out of 23\n",
      "It of alpha: 2 out of 23\n",
      "It of alpha: 3 out of 23\n",
      "It of alpha: 4 out of 23\n",
      "It of alpha: 5 out of 23\n",
      "It of alpha: 6 out of 23\n",
      "It of alpha: 7 out of 23\n",
      "It of alpha: 8 out of 23\n",
      "It of alpha: 9 out of 23\n",
      "It of alpha: 10 out of 23\n",
      "It of alpha: 11 out of 23\n",
      "It of alpha: 12 out of 23\n"
     ]
    }
   ],
   "source": [
    "## Bonus: Consider a non-zero value of c\n",
    "\n",
    "min_alpha = 0.75; max_alpha = 3; step_alpha = 0.1\n",
    "alpha = np.linspace(min_alpha, max_alpha, int(np.ceil((max_alpha - min_alpha) / step_alpha)))\n",
    "N_sizes = [20]\n",
    "\n",
    "n_D = 100*2   # number of random datasets for each P\n",
    "n_max = 100*2     # max number of epochs\n",
    "c_thresholds = [0, 0.1, 0.25, 0.5] \n",
    "\n",
    "results = []\n",
    "\n",
    "for cc in c_thresholds:\n",
    "    print(\"# C: {} out of {}\".format(c_thresholds.index(cc) + 1, len(c_thresholds)))\n",
    "    P_ls, P_ls_theoretical = do_experiment(alpha, N_sizes, n_D, n_max, cc)\n",
    "    results.append(P_ls)\n",
    "    "
   ]
  },
  {
   "cell_type": "code",
   "execution_count": 37,
   "metadata": {},
   "outputs": [
    {
     "ename": "NameError",
     "evalue": "name 'c_thresholds' is not defined",
     "output_type": "error",
     "traceback": [
      "\u001b[1;31m---------------------------------------------------------------------------\u001b[0m",
      "\u001b[1;31mNameError\u001b[0m                                 Traceback (most recent call last)",
      "Cell \u001b[1;32mIn [37], line 3\u001b[0m\n\u001b[0;32m      1\u001b[0m out_folder \u001b[39m=\u001b[39m \u001b[39m\"\u001b[39m\u001b[39mResults/\u001b[39m\u001b[39m\"\u001b[39m\n\u001b[0;32m      2\u001b[0m \u001b[39mwith\u001b[39;00m \u001b[39mopen\u001b[39m(out_folder \u001b[39m+\u001b[39m \u001b[39m\"\u001b[39m\u001b[39mPls_cthreshold.npy\u001b[39m\u001b[39m\"\u001b[39m, \u001b[39m'\u001b[39m\u001b[39mwb\u001b[39m\u001b[39m'\u001b[39m) \u001b[39mas\u001b[39;00m f:\n\u001b[1;32m----> 3\u001b[0m     \u001b[39mfor\u001b[39;00m ii \u001b[39min\u001b[39;00m \u001b[39mrange\u001b[39m(\u001b[39mlen\u001b[39m(c_thresholds)):\n\u001b[0;32m      4\u001b[0m         P_ls \u001b[39m=\u001b[39m results[ii]\n\u001b[0;32m      5\u001b[0m         np\u001b[39m.\u001b[39msave(f, P_ls)\n",
      "\u001b[1;31mNameError\u001b[0m: name 'c_thresholds' is not defined"
     ]
    }
   ],
   "source": [
    "out_folder = \"Results/\"\n",
    "with open(out_folder + \"Pls_cthreshold.npy\", 'wb') as f:\n",
    "    for ii in range(len(c_thresholds)):\n",
    "        P_ls = results[ii]\n",
    "        np.save(f, P_ls)\n",
    "        \n",
    "colors = [\"b\", \"r\", \"c\", \"g\", \"y\", \"m\", \"k\"]\n",
    "plt.figure()\n",
    "for ii in range(len(c_thresholds)):\n",
    "    \n",
    "    # plt.subplot(1, 1, ii + 1) # considering now only 1 N\n",
    "    \n",
    "    P_ls = results[ii]\n",
    "\n",
    "    plt.plot(alpha, P_ls[:, 0], colors[ii]+\"-\", label=\"C_threshold = {:.3f}\".format(c_thresholds[ii]))\n",
    "\n",
    "plt.xlabel('alpha = P/N')\n",
    "plt.ylabel('P_ls (Fraction of succesful runs)')\n",
    "plt.grid()\n",
    "plt.legend()\n",
    "plt.show()"
   ]
  }
 ],
 "metadata": {
  "kernelspec": {
   "display_name": "Python 3",
   "language": "python",
   "name": "python3"
  },
  "language_info": {
   "codemirror_mode": {
    "name": "ipython",
    "version": 3
   },
   "file_extension": ".py",
   "mimetype": "text/x-python",
   "name": "python",
   "nbconvert_exporter": "python",
   "pygments_lexer": "ipython3",
   "version": "3.10.7"
  },
  "orig_nbformat": 4,
  "vscode": {
   "interpreter": {
    "hash": "c63d8c7d738c2960218a10995aedf0a7f67a49a231e71037adf0440953cdb45b"
   }
  }
 },
 "nbformat": 4,
 "nbformat_minor": 2
}
